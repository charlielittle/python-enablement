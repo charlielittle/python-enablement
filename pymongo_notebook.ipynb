{
 "cells": [
  {
   "cell_type": "markdown",
   "metadata": {},
   "source": [
    "# Example PyMongo Snippets"
   ]
  },
  {
   "cell_type": "markdown",
   "metadata": {},
   "source": [
    "- **connect to cluster and get reference to a MongoDB collection**"
   ]
  },
  {
   "cell_type": "code",
   "execution_count": null,
   "metadata": {},
   "outputs": [],
   "source": [
    "from pymongo_get_database import get_database\n",
    "\n",
    "\n",
    "db = get_database( db_name=\"sample_mflix\" )\n",
    "\n",
    "display( f\"connected to MongoDB cluster: {db.name}\" )\n"
   ]
  },
  {
   "cell_type": "markdown",
   "metadata": {
    "tags": []
   },
   "source": [
    "## Use the Aggregation Framework to query for \"A Star Is Born\""
   ]
  },
  {
   "cell_type": "code",
   "execution_count": null,
   "metadata": {},
   "outputs": [],
   "source": [
    "import pymongo \n",
    "from IPython.core.display import Markdown as md\n",
    "from prettytable import PrettyTable\n",
    "\n",
    "# Get a reference to the \"movies\" collection:\n",
    "movie_collection = db[\"movies\"]\n",
    "\n",
    "# Match title = \"A Star Is Born\":\n",
    "stage_match_title = {\n",
    "   \"$match\": {\n",
    "         \"title\": \"A Star Is Born\"\n",
    "   }\n",
    "}\n",
    "\n",
    "# Sort by year, ascending:\n",
    "stage_sort_year_ascending = {\n",
    "   \"$sort\": { \"year\": pymongo.ASCENDING }\n",
    "}\n",
    "\n",
    "# Sort by year, ascending:\n",
    "stage_sort_year_descending = {\n",
    "   \"$sort\": { \"year\": pymongo.DESCENDING }\n",
    "}\n",
    "\n",
    "# Now the pipeline is easier to read:\n",
    "pipeline = [\n",
    "    stage_match_title, \n",
    "    stage_sort_year_ascending,\n",
    "   #  stage_project\n",
    "]\n",
    "\n",
    "# make it pretty\n",
    "results = list(movie_collection.aggregate(pipeline))\n",
    "table = PrettyTable()\n",
    "for movie in results:\n",
    "   table.add_row([movie[\"title\"], movie[\"year\"], ', '.join( movie[\"cast\"])])\n",
    "table.format = True\n",
    "display( md(table.get_html_string(attributes={'align': 'left', 'class': 'table table-striped'})) )"
   ]
  },
  {
   "cell_type": "markdown",
   "metadata": {},
   "source": [
    "### Bucket/Window Example\n"
   ]
  },
  {
   "cell_type": "code",
   "execution_count": null,
   "metadata": {},
   "outputs": [],
   "source": [
    "stage_unwind = {\n",
    "   \"$unwind\": {\n",
    "       \"path\": \"$genres\"\n",
    "   }\n",
    "}\n",
    "\n",
    "stage_addFields = {\n",
    "   \"$addFields\": {\n",
    "       \"decade\": {\n",
    "         \"$multiply\": [{ \"$floor\": { \"$divide\": [\"$year\", 10 ] }}, 10 ]\n",
    "       }\n",
    "   }\n",
    "}\n",
    "\n",
    "stage_group = {\n",
    "   \"$group\": {\n",
    "       \"_id\": {\n",
    "           \"decade\": { \"$toInt\": \"$decade\" }, \"genre\": \"$genres\"\n",
    "       },\n",
    "       \"count\": {\n",
    "           \"$count\": {}\n",
    "       }\n",
    "   }\n",
    "}\n",
    "\n",
    "stage_project = {\n",
    "   \"$project\": {\n",
    "       \"count\": 1,\n",
    "       \"_id\": 1\n",
    "   }\n",
    "}\n",
    "\n",
    "stage_sort = {\n",
    "    \"$sort\": {\"_id.decade\":-1, \"count\":-1 }\n",
    "}\n",
    "\n",
    "pipeline = [ stage_sort_year_descending, stage_unwind, stage_addFields, stage_group, stage_sort ]\n",
    "\n",
    "result = list(movie_collection.aggregate(pipeline))\n",
    "display(result)"
   ]
  },
  {
   "cell_type": "markdown",
   "metadata": {},
   "source": [
    "## Transactions"
   ]
  },
  {
   "cell_type": "code",
   "execution_count": null,
   "metadata": {},
   "outputs": [],
   "source": [
    "from time import sleep\n",
    "from pymongo.errors import DuplicateKeyError\n",
    "\n",
    "with db.client.start_session() as session:\n",
    "    with session.start_transaction():\n",
    "        _id = 1\n",
    "        while True:\n",
    "            try:\n",
    "                doc = { \"_id\" : _id, \"x\": 1 }\n",
    "                display( f\"Inserting doc {doc}\")\n",
    "                display( db.test.insert_one( doc ) )\n",
    "                break\n",
    "            except DuplicateKeyError:\n",
    "                display( f\"_id {_id} already exists\" )\n",
    "                _id += 1\n",
    "            except Exception as e:\n",
    "                session.abort_transaction()\n",
    "                display( f\"Transaction aborted: {e}\")\n",
    "                break\n",
    "\n",
    "display( list(db.test.find()) )\n"
   ]
  },
  {
   "cell_type": "markdown",
   "metadata": {},
   "source": [
    "- **Delete test records**"
   ]
  },
  {
   "cell_type": "code",
   "execution_count": null,
   "metadata": {},
   "outputs": [],
   "source": [
    "with db.client.start_session() as session:\n",
    "    with session.start_transaction():\n",
    "        display( db.test.delete_many({ \"x\": 1 }) )\n",
    "\n",
    "display( f\"Finding deleted doc: {db.test.find_one()}\" )"
   ]
  },
  {
   "cell_type": "markdown",
   "metadata": {},
   "source": [
    "## PyMongoArrow"
   ]
  },
  {
   "cell_type": "code",
   "execution_count": null,
   "metadata": {},
   "outputs": [],
   "source": [
    "from pyarrow import list_, string, int32\n",
    "from pandas import DataFrame\n",
    "from pymongoarrow.monkey import patch_all\n",
    "patch_all()\n",
    "from pymongoarrow.api import Schema\n",
    "import numpy\n",
    "\n",
    "schema = Schema( { \"title\": str, \"metacritic\": float, \"genres\": list_(string()) } )\n",
    "# df = db.movies.find_pandas_all( { \"directors\": \"David Lynch\" }, schema=schema )\n",
    "arrow = db.movies.find_arrow_all( { \"directors\": \"David Lynch\" }, schema=schema )\n",
    "df = arrow.to_pandas().sort_values( by=\"metacritic\", ascending=False )\n",
    "\n",
    "display( md( df.to_html() ) )\n",
    "\n",
    "display( df.agg( {\"metacritic\": [\"mean\", \"min\", \"max\"]} ) )\n"
   ]
  }
 ],
 "metadata": {
  "kernelspec": {
   "display_name": ".virtualenvs",
   "language": "python",
   "name": "python3"
  },
  "language_info": {
   "codemirror_mode": {
    "name": "ipython",
    "version": 3
   },
   "file_extension": ".py",
   "mimetype": "text/x-python",
   "name": "python",
   "nbconvert_exporter": "python",
   "pygments_lexer": "ipython3",
   "version": "3.9.18"
  }
 },
 "nbformat": 4,
 "nbformat_minor": 2
}
